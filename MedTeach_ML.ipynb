{
 "cells": [
  {
   "cell_type": "code",
   "execution_count": 222,
   "metadata": {
    "collapsed": true
   },
   "outputs": [],
   "source": [
    "import scipy.io as sio\n",
    "import matplotlib.pyplot as plt\n",
    "import numpy as np\n",
    "import seaborn as sns\n",
    "import pandas as pd\n",
    "import sys\n",
    "from sklearn import svm\n",
    "from sklearn import tree\n",
    "from sklearn.model_selection import GridSearchCV\n",
    "from sklearn.ensemble import RandomForestClassifier"
   ]
  },
  {
   "cell_type": "code",
   "execution_count": 223,
   "metadata": {
    "collapsed": true
   },
   "outputs": [],
   "source": [
    "def convert_breast(label):\n",
    "    \"\"\"\n",
    "    Function to convert the labels from string to numeric\n",
    "    \"\"\"\n",
    "    if label == 2:\n",
    "        return 1.0\n",
    "    elif label == 4:\n",
    "        return 0.0\n",
    "    else:\n",
    "        return label\n",
    "def convert_heart(label):\n",
    "    \"\"\"\n",
    "    Function to convert the labels from string to numeric\n",
    "    \"\"\"\n",
    "    if label >=1:\n",
    "        return 1.0\n",
    "    elif label == 0:\n",
    "        return 0.0\n",
    "    else:\n",
    "        return label\n",
    "def convert_string(s):\n",
    "    return float(s)"
   ]
  },
  {
   "cell_type": "markdown",
   "metadata": {},
   "source": [
    "# Parsing Data Sets"
   ]
  },
  {
   "cell_type": "code",
   "execution_count": 224,
   "metadata": {},
   "outputs": [],
   "source": [
    "heart = pd.read_csv(\"http://archive.ics.uci.edu/ml/machine-learning-databases/heart-disease/processed.cleveland.data\")\n",
    "heart = heart.replace({'?':np.nan}).dropna()\n",
    "heart['0'] = heart['0'].apply(convert_heart)\n",
    "for column in heart:\n",
    "    heart[column] = heart[column].apply(convert_string)"
   ]
  },
  {
   "cell_type": "code",
   "execution_count": 225,
   "metadata": {},
   "outputs": [],
   "source": [
    "breast = pd.read_csv(\"http://archive.ics.uci.edu/ml/machine-learning-databases/breast-cancer-wisconsin/breast-cancer-wisconsin.data\")\n",
    "breast['2.1'] = breast['2.1'].apply(convert_breast)\n",
    "breast.drop('1000025',axis = 1,inplace= True)\n",
    "breast = breast.replace({'?':np.nan}).dropna()\n",
    "for column in breast:\n",
    "    breast[column] = breast[column].apply(convert_string)"
   ]
  },
  {
   "cell_type": "markdown",
   "metadata": {},
   "source": [
    "# Splitting"
   ]
  },
  {
   "cell_type": "code",
   "execution_count": 226,
   "metadata": {},
   "outputs": [],
   "source": [
    "heart_XY = heart.iloc[:,0:14].values\n",
    "np.random.shuffle(heart_XY)\n",
    "\n",
    "heart_X = heart_XY[:,0:13]\n",
    "heart_Y = heart_XY[:,13:14]\n",
    "\n",
    "num_training = int(0.8*heart_X.shape[0])\n",
    "num_testing = int(0.2*heart_X.shape[0])\n",
    "\n",
    "heart_X_train = heart_X[:num_training] \n",
    "heart_Y_train = heart_Y[:num_training] \n",
    "heart_X_test = heart_X[num_training:] \n",
    "heart_Y_test = heart_Y[num_training:]"
   ]
  },
  {
   "cell_type": "code",
   "execution_count": 227,
   "metadata": {},
   "outputs": [],
   "source": [
    "breast_XY = breast.iloc[:,0:10].values\n",
    "np.random.shuffle(breast_XY)\n",
    "\n",
    "breast_X = breast_XY[:,0:9]\n",
    "breast_Y = breast_XY[:,9:10]\n",
    "\n",
    "num_training = int(0.8*breast_X.shape[0])\n",
    "num_testing = int(0.2*breast_X.shape[0])\n",
    "\n",
    "breast_X_train = breast_X[:num_training] \n",
    "breast_Y_train = breast_Y[:num_training] \n",
    "breast_X_test = breast_X[num_training:] \n",
    "breast_Y_test = breast_Y[num_training:] "
   ]
  },
  {
   "cell_type": "markdown",
   "metadata": {},
   "source": [
    "# Train "
   ]
  },
  {
   "cell_type": "code",
   "execution_count": 228,
   "metadata": {},
   "outputs": [
    {
     "data": {
      "text/plain": [
       "GridSearchCV(cv=10, error_score='raise',\n",
       "       estimator=DecisionTreeClassifier(class_weight=None, criterion='entropy', max_depth=None,\n",
       "            max_features=None, max_leaf_nodes=None,\n",
       "            min_impurity_decrease=0.0, min_impurity_split=None,\n",
       "            min_samples_leaf=1, min_samples_split=2,\n",
       "            min_weight_fraction_leaf=0.0, presort=False, random_state=None,\n",
       "            splitter='best'),\n",
       "       fit_params=None, iid=True, n_jobs=1,\n",
       "       param_grid={'max_depth': [1, 2, 3, 4, 5]}, pre_dispatch='2*n_jobs',\n",
       "       refit=True, return_train_score=True, scoring=None, verbose=0)"
      ]
     },
     "execution_count": 228,
     "metadata": {},
     "output_type": "execute_result"
    }
   ],
   "source": [
    "classifier = tree.DecisionTreeClassifier(\n",
    "                    criterion='entropy')\n",
    "depth_list = [1, 2, 3, 4, 5]\n",
    "params = {\"max_depth\": depth_list}\n",
    "grid_dt_heart = GridSearchCV(classifier, params, \n",
    "                            return_train_score = True, \n",
    "                            cv = 10)\n",
    "grid_dt_heart.fit(heart_X_train, heart_Y_train)"
   ]
  },
  {
   "cell_type": "code",
   "execution_count": 229,
   "metadata": {},
   "outputs": [
    {
     "data": {
      "text/plain": [
       "GridSearchCV(cv=10, error_score='raise',\n",
       "       estimator=RandomForestClassifier(bootstrap=True, class_weight=None, criterion='gini',\n",
       "            max_depth=5, max_features='auto', max_leaf_nodes=None,\n",
       "            min_impurity_decrease=0.0, min_impurity_split=None,\n",
       "            min_samples_leaf=1, min_samples_split=2,\n",
       "            min_weight_fraction_leaf=0.0, n_estimators=10, n_jobs=1,\n",
       "            oob_score=False, random_state=0, verbose=0, warm_start=False),\n",
       "       fit_params=None, iid=True, n_jobs=1,\n",
       "       param_grid={'max_depth': [1, 2, 3, 4, 5]}, pre_dispatch='2*n_jobs',\n",
       "       refit=True, return_train_score=True, scoring=None, verbose=0)"
      ]
     },
     "execution_count": 229,
     "metadata": {},
     "output_type": "execute_result"
    }
   ],
   "source": [
    "depth_list = [1, 2, 3, 4, 5]\n",
    "params = {\"max_depth\": depth_list}\n",
    "classifier = RandomForestClassifier(max_depth=5,\n",
    "                                    random_state=0)\n",
    "grid_rf_breast = GridSearchCV(classifier, params, \n",
    "                            return_train_score = True, cv = 10)\n",
    "\n",
    "grid_rf_breast.fit(breast_X_train, breast_Y_train.ravel())"
   ]
  },
  {
   "cell_type": "markdown",
   "metadata": {},
   "source": [
    "# Test"
   ]
  },
  {
   "cell_type": "code",
   "execution_count": 230,
   "metadata": {},
   "outputs": [
    {
     "name": "stdout",
     "output_type": "stream",
     "text": [
      "Test Accuracy for heart: 0.850000\n"
     ]
    }
   ],
   "source": [
    "pred = grid_rf_heart.predict(heart_X_test)\n",
    "asserted = []\n",
    "for i in range(0,pred.shape[0]):\n",
    "    if pred[i] == heart_Y_test[i]:\n",
    "        asserted.append(pred[i])\n",
    "test_accuracy = len(asserted)/pred.shape[0]\n",
    "print(\"Test Accuracy for heart: {0:f}\".format(test_accuracy))"
   ]
  },
  {
   "cell_type": "code",
   "execution_count": 231,
   "metadata": {},
   "outputs": [
    {
     "name": "stdout",
     "output_type": "stream",
     "text": [
      "Test Accuracy for breast: 0.978102\n"
     ]
    }
   ],
   "source": [
    "pred = grid_rf_breast.predict(breast_X_test)\n",
    "asserted = []\n",
    "for i in range(0,pred.shape[0]):\n",
    "    if pred[i] == breast_Y_test[i]:\n",
    "        asserted.append(pred[i])\n",
    "test_accuracy = len(asserted)/pred.shape[0]\n",
    "print(\"Test Accuracy for breast: {0:f}\".format(test_accuracy))\n"
   ]
  },
  {
   "cell_type": "markdown",
   "metadata": {},
   "source": [
    "# Interact with heart disease features"
   ]
  },
  {
   "cell_type": "markdown",
   "metadata": {},
   "source": [
    "###### Index For Features:\n",
    "    1.) age\n",
    "    2.) sex (1 = M, 0 = F)\n",
    "    3.) cp: chest pain type \n",
    "        Value 1: typical angina \n",
    "        Value 2: atypical angina \n",
    "        Value 3: non-anginal pain \n",
    "        Value 4: asymptomatic \n",
    "    4.) trestbps: resting blood pressure (in mm Hg on admission to the hospital) \n",
    "    5.) chol: serum cholestoral in mg/dl \n",
    "    6.) fbs: (fasting blood sugar > 120 mg/dl) (1 = true; 0 = false) \n",
    "    7.) estecg: resting electrocardiographic results \n",
    "            Value 0: normal \n",
    "            Value 1: having ST-T wave abnormality (T wave inversions and/or ST elevation\n",
    "                or depression of > 0.05 mV) \n",
    "            Value 2: showing probable or definite left ventricular hypertrophy by\n",
    "                Estes' criteria \n",
    "    8.) thalach: maximum heart rate achieved \n",
    "    9.) exang: exercise induced angina (1 = yes; 0 = no) \n",
    "    10.) oldpeak = ST depression induced by exercise relative to rest \n",
    "    11.) slope: the slope of the peak exercise ST segment \n",
    "            Value 1: upsloping \n",
    "            Value 2: flat \n",
    "            Value 3: downsloping \n",
    "    12.) ca: number of major vessels (0-3) colored by flourosopy \n",
    "    13.) thal: 3 = normal; 6 = fixed defect; 7 = reversable defect \n",
    " "
   ]
  },
  {
   "cell_type": "code",
   "execution_count": 232,
   "metadata": {},
   "outputs": [
    {
     "name": "stdout",
     "output_type": "stream",
     "text": [
      "Time to predict if a patience has a heart disease! refer to the index above for details on input format, type anything to continue yes\n",
      "Enter age: 67\n",
      "Enter sex(1 for M, 0 for F): 1\n",
      "Enter cp: 4\n",
      "Enter trestbps: 160\n",
      "Enter chol: 286\n",
      "Enter fbs: 0\n",
      "Enter estecg: 2\n",
      "Enter thalach: 108\n",
      "Enter exang: 1\n",
      "Enter oldpeak: 1.5\n",
      "Enter slope: 2\n",
      "Enter ca: 3\n",
      "Enter thal: 3\n",
      "\n",
      "The patient is highly likely to have a heart disease!\n"
     ]
    }
   ],
   "source": [
    "continue_1 = input(\"Time to predict if a patience has a heart disease! refer to the index above for details on input format, type anything to continue \")\n",
    "age = int(input(\"Enter age: \"))\n",
    "sex = int(input(\"Enter sex(1 for M, 0 for F): \"))\n",
    "cp = int(input(\"Enter cp: \"))\n",
    "trestbps = int(input(\"Enter trestbps: \"))\n",
    "chol = int(input(\"Enter chol: \"))\n",
    "fbs = int(input(\"Enter fbs: \"))\n",
    "estecg = int(input(\"Enter estecg: \"))\n",
    "thalach = int(input(\"Enter thalach: \"))\n",
    "exang = float(input(\"Enter exang: \"))\n",
    "oldpeak = float(input(\"Enter oldpeak: \"))\n",
    "slope = float(input(\"Enter slope: \"))\n",
    "ca = float(input(\"Enter ca: \"))\n",
    "thal = float(input(\"Enter thal: \"))\n",
    "label_to_predict = [[age,sex,cp,trestbps,chol,fbs,\n",
    "                    estecg,thalach,exang,oldpeak,\n",
    "                    slope,ca,thal]]\n",
    "prediction = grid_rf_heart.predict(label_to_predict)\n",
    "print()\n",
    "if prediction == 1:\n",
    "    print(\"The patient is highly likely to have a heart disease!\")\n",
    "else:\n",
    "    print(\"The patient is highly unlikely to have a heart disease!\")"
   ]
  },
  {
   "cell_type": "markdown",
   "metadata": {},
   "source": [
    "# Interact with breast cancer features"
   ]
  },
  {
   "cell_type": "markdown",
   "metadata": {},
   "source": [
    "###### Index For Features:\n",
    "    1.) Clump Thickness id\n",
    "    2.) Uniformity of Cell Size id\n",
    "    3.) Uniformity of Cell Shape id\n",
    "    4.) Maeginal Adhesion id\n",
    "    5.) Single Epithelial Cell Size id\n",
    "    6.) Bare Nuclei id\n",
    "    7.) Bland Chromatin id\n",
    "    8.) Normal Nucleoli id\n",
    "    9.) Mitoses id\n",
    " "
   ]
  },
  {
   "cell_type": "code",
   "execution_count": 233,
   "metadata": {},
   "outputs": [
    {
     "name": "stdout",
     "output_type": "stream",
     "text": [
      "Time to predict if a patience has breast cancer! refer to the index above for details on input format, type anything to continue yes\n",
      "\n",
      "Enter Clump Thickness: 8\n",
      "Uniformity of Cell Size: 10\n",
      "Uniformity of Cell Shape: 10\n",
      "Maeginal Adhesion id: 8\n",
      "Single Epithelial Cell Size: 7\n",
      "Bare Nuclei: 10\n",
      "Bland Chromatin: 9\n",
      "Normal Nucleoli: 7\n",
      "Mitoses: 1\n",
      "\n",
      "The patient is highly unlikely to have breast cancer!\n"
     ]
    }
   ],
   "source": [
    "continue_1 = input(\"Time to predict if a patience has breast cancer! refer to the index above for details on input format, type anything to continue \")\n",
    "print()\n",
    "ct = int(input(\"Enter Clump Thickness: \"))\n",
    "uocs = int(input(\"Uniformity of Cell Size: \"))\n",
    "uocsh = int(input(\"Uniformity of Cell Shape: \"))\n",
    "ma = int(input(\"Maeginal Adhesion id: \"))\n",
    "secs = int(input(\"Single Epithelial Cell Size: \"))\n",
    "bn = int(input(\"Bare Nuclei: \"))\n",
    "bc = int(input(\"Bland Chromatin: \"))\n",
    "nn = int(input(\"Normal Nucleoli: \"))\n",
    "mi = float(input(\"Mitoses: \"))\n",
    "label_to_predict = [[ct,uocs,uocsh,ma,\n",
    "                     secs,bn,bc,nn,mi]]\n",
    "prediction = grid_rf_breast.predict(label_to_predict)\n",
    "print()\n",
    "if prediction == 1:\n",
    "    print(\"The patient is highly likely to have breast cancer!\")\n",
    "else:\n",
    "    print(\"The patient is highly unlikely to have breast cancer!\")"
   ]
  }
 ],
 "metadata": {
  "kernelspec": {
   "display_name": "Python 3",
   "language": "python",
   "name": "python3"
  },
  "language_info": {
   "codemirror_mode": {
    "name": "ipython",
    "version": 3
   },
   "file_extension": ".py",
   "mimetype": "text/x-python",
   "name": "python",
   "nbconvert_exporter": "python",
   "pygments_lexer": "ipython3",
   "version": "3.6.3"
  }
 },
 "nbformat": 4,
 "nbformat_minor": 2
}
